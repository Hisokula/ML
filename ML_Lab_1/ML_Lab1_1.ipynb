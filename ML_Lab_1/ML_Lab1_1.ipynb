{
 "cells": [
  {
   "cell_type": "markdown",
   "id": "4013d911-b276-4cea-a492-b05534d3c717",
   "metadata": {},
   "source": [
    "# Линейная регрессия методом наименьших квадратов\n"
   ]
  },
  {
   "cell_type": "markdown",
   "id": "ef0eff2b-9d9e-4bd8-a830-b828fa79a9f1",
   "metadata": {},
   "source": [
    "## Импорт библиотек:"
   ]
  },
  {
   "cell_type": "code",
   "execution_count": 1,
   "id": "585ba7aa-ff84-4d1a-90b0-2c9d0b72497a",
   "metadata": {},
   "outputs": [],
   "source": [
    "import numpy as np\n",
    "import pandas as pd\n",
    "import matplotlib.pyplot as plt\n",
    "from ipywidgets import interact, widgets\n",
    "%matplotlib inline"
   ]
  },
  {
   "cell_type": "markdown",
   "id": "e71c3a62-6bfa-4aa8-83a4-8e64dc4202b9",
   "metadata": {},
   "source": [
    "## 1. Загрузка данных"
   ]
  },
  {
   "cell_type": "code",
   "execution_count": 3,
   "id": "691ea917-4b8d-4878-af33-5eeb337716bd",
   "metadata": {},
   "outputs": [],
   "source": [
    "def load_data(filename):\n",
    "    \"\"\"Загрузка данных из csv файла\"\"\"\n",
    "    data = pd.read_csv(filename)\n",
    "    return data"
   ]
  },
  {
   "cell_type": "markdown",
   "id": "c62487c2-a482-4adc-a27e-e383f8a1d3b3",
   "metadata": {},
   "source": [
    "## 2. Статистическая информация о данных"
   ]
  },
  {
   "cell_type": "code",
   "execution_count": 5,
   "id": "1e05705c-d22e-4070-941b-d01a147837de",
   "metadata": {},
   "outputs": [],
   "source": [
    "def show_statistics(data, x_col, y_col):\n",
    "    \"\"\"Вывод статистической информации о данных\"\"\"\n",
    "    print(\"Статистика по столбцу X:\")\n",
    "    print(f\"Количество: {data[x_col].count()}\")\n",
    "    print(f\"Минимум: {data[x_col].min()}\")\n",
    "    print(f\"Максимум: {data[x_col].max()}\")\n",
    "    print(f\"Среднее: {data[x_col].mean()}\")\n",
    "    \n",
    "    print(\"\\nСтатистика по столбцу Y:\")\n",
    "    print(f\"Количество: {data[y_col].count()}\")\n",
    "    print(f\"Минимум: {data[y_col].min()}\")\n",
    "    print(f\"Максимум: {data[y_col].max()}\")\n",
    "    print(f\"Среднее: {data[y_col].mean()}\")"
   ]
  },
  {
   "cell_type": "markdown",
   "id": "758d0f00-d776-4b1e-98bf-09f262aa0bc9",
   "metadata": {},
   "source": [
    "## 3. Визуализация исходных данных"
   ]
  },
  {
   "cell_type": "code",
   "execution_count": 7,
   "id": "dbf6a4aa-2d78-4bca-93de-673a0c62afb6",
   "metadata": {},
   "outputs": [],
   "source": [
    "def plot_original_data(data, x_col, y_col, ax):\n",
    "    \"\"\"Визуализация исходных данных\"\"\"\n",
    "    ax.scatter(data[x_col], data[y_col], color='blue', label='Исходные данные')\n",
    "    ax.set_xlabel(x_col)\n",
    "    ax.set_ylabel(y_col)\n",
    "    ax.set_title('Исходные данные')\n",
    "    ax.legend()\n",
    "    ax.grid(True)"
   ]
  },
  {
   "cell_type": "markdown",
   "id": "6f352ca3-ba3d-40d7-a415-f8518b67a351",
   "metadata": {},
   "source": [
    "## 4. Метод наименьших квадратов"
   ]
  },
  {
   "cell_type": "code",
   "execution_count": 9,
   "id": "4eb11210-a7cc-4900-b6c6-6723070a03b9",
   "metadata": {},
   "outputs": [],
   "source": [
    "def linear_regression(data, x_col, y_col):\n",
    "    \"\"\"Реализация линейной регрессии методом наименьших квадратов\"\"\"\n",
    "    x = data[x_col].values\n",
    "    y = data[y_col].values\n",
    "    \n",
    "    n = len(x)\n",
    "    sum_x = np.sum(x)\n",
    "    sum_y = np.sum(y)\n",
    "    sum_xy = np.sum(x * y)\n",
    "    sum_x2 = np.sum(x ** 2)\n",
    "    \n",
    "    # Вычисление коэффициентов\n",
    "    a = (n * sum_xy - sum_x * sum_y) / (n * sum_x2 - sum_x ** 2)\n",
    "    b = (sum_y - a * sum_x) / n\n",
    "    \n",
    "    return a, b"
   ]
  },
  {
   "cell_type": "markdown",
   "id": "b985520c-c583-4a4c-b87c-46b96662e2d2",
   "metadata": {},
   "source": [
    "## 5. Визуализация регрессионной прямой"
   ]
  },
  {
   "cell_type": "code",
   "execution_count": 11,
   "id": "ca7f3782-6c3d-47f9-b32c-147d16627d1e",
   "metadata": {},
   "outputs": [],
   "source": [
    "def plot_regression_line(data, x_col, y_col, a, b, ax):\n",
    "    \"\"\"Визуализация регрессионной прямой\"\"\"\n",
    "    x = data[x_col].values\n",
    "    y = data[y_col].values\n",
    "    \n",
    "    # Исходные данные\n",
    "    ax.scatter(x, y, color='blue', label='Исходные данные')\n",
    "    \n",
    "    # Регрессионная прямая\n",
    "    x_line = np.linspace(min(x), max(x), 100)\n",
    "    y_line = a * x_line + b\n",
    "    ax.plot(x_line, y_line, color='red', label='Регрессионная прямая')\n",
    "    \n",
    "    ax.set_xlabel(x_col)\n",
    "    ax.set_ylabel(y_col)\n",
    "    ax.set_title('Регрессионная прямая')\n",
    "    ax.legend()\n",
    "    ax.grid(True)"
   ]
  },
  {
   "cell_type": "markdown",
   "id": "3c0a4484-b40b-45c6-abbd-2527f9f10e31",
   "metadata": {},
   "source": [
    "## 6. Визуализация квадратов ошибок"
   ]
  },
  {
   "cell_type": "code",
   "execution_count": 13,
   "id": "3f0ad5d9-0001-4960-a354-ecb6390710e1",
   "metadata": {},
   "outputs": [],
   "source": [
    "def plot_error_squares(data, x_col, y_col, a, b, ax):\n",
    "    \"\"\"Визуализация квадратов ошибок\"\"\"\n",
    "    x = data[x_col].values\n",
    "    y = data[y_col].values\n",
    "    y_pred = a * x + b\n",
    "    \n",
    "    # Исходные данные и регрессионная прямая\n",
    "    ax.scatter(x, y, color='blue', label='Исходные данные')\n",
    "    x_line = np.linspace(min(x), max(x), 100)\n",
    "    y_line = a * x_line + b\n",
    "    ax.plot(x_line, y_line, color='red', label='Регрессионная прямая')\n",
    "    \n",
    "    # Квадраты ошибок\n",
    "    for xi, yi, yi_pred in zip(x, y, y_pred):\n",
    "        # Определяем углы прямоугольника\n",
    "        left = min(xi, xi)\n",
    "        right = max(xi, xi)\n",
    "        bottom = min(yi, yi_pred)\n",
    "        top = max(yi, yi_pred)\n",
    "        \n",
    "        # Рисуем прямоугольник\n",
    "        rect = plt.Rectangle((left, bottom), right-left, top-bottom, \n",
    "                             linewidth=1, edgecolor='green', facecolor='green', alpha=0.2)\n",
    "        ax.add_patch(rect)\n",
    "    \n",
    "    ax.set_xlabel(x_col)\n",
    "    ax.set_ylabel(y_col)\n",
    "    ax.set_title('Квадраты ошибок')\n",
    "    ax.legend()\n",
    "    ax.grid(True)"
   ]
  },
  {
   "cell_type": "markdown",
   "id": "d64a432a-ae21-4a14-be31-6881372972da",
   "metadata": {},
   "source": [
    "### Основная функция"
   ]
  },
  {
   "cell_type": "code",
   "execution_count": 19,
   "id": "0a4c3de8-7cca-4e2a-a2b5-46d4f6937c96",
   "metadata": {},
   "outputs": [],
   "source": [
    "def main(filename, x_col, y_col):\n",
    "    \"\"\"Основная функция для выполнения всех шагов\"\"\"\n",
    "    # Загрузка данных\n",
    "    data = load_data(filename)\n",
    "    \n",
    "    # Проверка наличия столбцов\n",
    "    if x_col not in data.columns or y_col not in data.columns:\n",
    "        print(\"Ошибка\")\n",
    "        return\n",
    "    \n",
    "    # Создаем фигуру с тремя subplots\n",
    "    fig, (ax1, ax2, ax3) = plt.subplots(1, 3, figsize=(18, 5))\n",
    "    \n",
    "    # 2. Вывод статистики\n",
    "    print(\"Статистическая информация:\")\n",
    "    show_statistics(data, x_col, y_col)\n",
    "    \n",
    "    # 3. Визуализация исходных данных\n",
    "    plot_original_data(data, x_col, y_col, ax1)\n",
    "    \n",
    "    # 4. Линейная регрессия\n",
    "    a, b = linear_regression(data, x_col, y_col)\n",
    "    print(f\"\\nРегрессионная прямая: y = {a:.4f}x + {b:.4f}\")\n",
    "    \n",
    "    # 5. Визуализация регрессионной прямой\n",
    "    plot_regression_line(data, x_col, y_col, a, b, ax2)\n",
    "    \n",
    "    # 6. Визуализация квадратов ошибок\n",
    "    plot_error_squares(data, x_col, y_col, a, b, ax3)\n",
    "    \n",
    "    plt.tight_layout()\n",
    "    plt.show()"
   ]
  },
  {
   "cell_type": "markdown",
   "id": "b32a0c94-2a3c-4494-a419-0cbabf080228",
   "metadata": {},
   "source": [
    "## Интерфейс для выбора файла и столбцов"
   ]
  },
  {
   "cell_type": "code",
   "execution_count": 24,
   "id": "cc7de738-5cdf-4a63-bd8a-c246d321bd5f",
   "metadata": {},
   "outputs": [
    {
     "data": {
      "application/vnd.jupyter.widget-view+json": {
       "model_id": "28b30441cc7b447c80bbb29a4877f516",
       "version_major": 2,
       "version_minor": 0
      },
      "text/plain": [
       "interactive(children=(Dropdown(description='X столбец:', options=('Hours', 'Scores'), value='Hours'), Dropdown…"
      ]
     },
     "metadata": {},
     "output_type": "display_data"
    }
   ],
   "source": [
    "# Исправленная функция run_analysis\n",
    "def run_analysis(filename=\"/Users/poyma/Downloads/ML1/student_scores.csv\"):\n",
    "    \"\"\"Функция для запуска анализа с возможностью выбора столбцов\"\"\"\n",
    "    try:\n",
    "        data = pd.read_csv(filename)\n",
    "        \n",
    "        # Получаем список столбцов\n",
    "        column_options = list(data.columns)\n",
    "        \n",
    "        # Если в файле меньше 2 столбцов, выдаём ошибку\n",
    "        if len(column_options) < 2:\n",
    "            print(\"Ошибка: файл должен содержать как минимум 2 столбца\")\n",
    "            return\n",
    "            \n",
    "        # По умолчанию используем первые два столбца\n",
    "        default_x = column_options[0]\n",
    "        default_y = column_options[1]\n",
    "        \n",
    "        @interact(\n",
    "            x_col=widgets.Dropdown(options=column_options, value=default_x, description='X столбец:'),\n",
    "            y_col=widgets.Dropdown(options=column_options, value=default_y, description='Y столбец:')\n",
    "        )\n",
    "        def update_columns(x_col, y_col):\n",
    "            main(filename, x_col, y_col)\n",
    "            \n",
    "    except FileNotFoundError:\n",
    "        print(f\"Ошибка: файл {filename} не найден\")\n",
    "    except Exception as e:\n",
    "        print(f\"Произошла ошибка: {str(e)}\")\n",
    "\n",
    "# Запуск анализа\n",
    "data_file = '/Users/poyma/Downloads/ML1/student_scores.csv'\n",
    "run_analysis(data_file)"
   ]
  },
  {
   "cell_type": "markdown",
   "id": "5ccb1526-309d-4eb1-ad83-fca6a21bf43a",
   "metadata": {},
   "source": [
    "По умолчанию мы используем здесь файл student_scores.csv"
   ]
  }
 ],
 "metadata": {
  "kernelspec": {
   "display_name": "Python 3 (ipykernel)",
   "language": "python",
   "name": "python3"
  },
  "language_info": {
   "codemirror_mode": {
    "name": "ipython",
    "version": 3
   },
   "file_extension": ".py",
   "mimetype": "text/x-python",
   "name": "python",
   "nbconvert_exporter": "python",
   "pygments_lexer": "ipython3",
   "version": "3.11.7"
  }
 },
 "nbformat": 4,
 "nbformat_minor": 5
}
